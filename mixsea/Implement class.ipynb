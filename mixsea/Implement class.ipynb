{
 "cells": [
  {
   "cell_type": "code",
   "execution_count": 2,
   "metadata": {},
   "outputs": [],
   "source": [
    "import numpy as np\n",
    "import scipy.io as sio\n",
    "import matplotlib.pyplot as plt\n",
    "import pandas as pd\n",
    "from scipy import signal\n",
    "from scipy.stats import chi2\n",
    "from scipy.optimize import minimize_scalar\n",
    "\n",
    "# Begin with ADCP data\n",
    "path2data = '/mnt/sda1/SciData/TTIDE/McLane/M5_sn107_short.mat'\n",
    "#path2data = '/media/mydrive/AQDP/TTIDE_M5_sn107_short.mat'\n",
    "matfile = sio.loadmat(path2data)\n",
    "matfile = matfile['aqdp']; "
   ]
  },
  {
   "cell_type": "code",
   "execution_count": null,
   "metadata": {},
   "outputs": [],
   "source": []
  },
  {
   "cell_type": "code",
   "execution_count": 3,
   "metadata": {},
   "outputs": [],
   "source": [
    "# Make a class that stores aqdp data, allowing to detrend and take spectra as needed\n",
    "class VelMeas:\n",
    "    \n",
    "    std = 0.01; # std necessary\n",
    "    \n",
    "    def __init__(self, vels, dl):\n",
    "        \n",
    "        self.v = vels;\n",
    "        self.nbins = min(vels.shape)\n",
    "        self.time = vels.index\n",
    "        self.dl = dl;\n",
    "        self.wvnum = np.fft.rfftfreq( self.nbins, d = dl)[1:];\n",
    "        \n",
    "    def detrend(self):\n",
    "        return signal.detrend( self.v, axis = 1 );\n",
    "    \n",
    "    def kspectrum(self, detrend ):\n",
    "        # Compute wavenumber spectrum for individual velocity profiles\n",
    "        if detrend:\n",
    "            u2spec = self.detrend();\n",
    "        else: \n",
    "            u2spec = self.v;\n",
    "        \n",
    "        # Calculate variance to normalize spectrum later    \n",
    "        normvar = np.expand_dims( np.var( u2spec , axis = 1 ), axis = 1);\n",
    "        dk = 1/(self.nbins * self.dl )\n",
    "        \n",
    "        # Get power for positive wvnumbers\n",
    "        spectrum = np.fft.fft( u2spec, axis = 1 );\n",
    "        spectrum = spectrum*np.conj(spectrum); \n",
    "        spectrum = spectrum[:,1:int( np.ceil(self.nbins/2+0.5))];\n",
    "        \n",
    "        # Normalization\n",
    "        spectrum2 = ( normvar * spectrum );\n",
    "        normvar = np.expand_dims( np.sum( spectrum*dk, axis = 1 ) , axis = 1);\n",
    "        spectrum = spectrum2 / normvar;\n",
    "\n",
    "        return spectrum.real;\n",
    "    \n",
    "    def structfunc(self, limits):\n",
    "        # Calculate structure function for all profiles in data\n",
    "        rawStruct = np.empty( (len(self.time), limits[1]-limits[0]+1));\n",
    "        print('running struct method')\n",
    "        \n",
    "        # Cycle through separations r to calculate struct func\n",
    "        for rr in range(limits[0], limits[1]+1):\n",
    "        \n",
    "            psamples = self.nbins-rr; # number of samples per profile\n",
    "            one_take = np.zeros( (self.v.shape[0], ) ); # calc mean Dr\n",
    "        \n",
    "            for zz in range(psamples): # starting points for difference\n",
    "                one_take += (self.v.loc[:,zz] - self.v.loc[:,zz+rr])**2 / psamples;\n",
    "    \n",
    "            # Save D(r,t) for all times \n",
    "            rawStruct[:,rr-limits[0]] = one_take; \n",
    "        return rawStruct\n",
    "    \n",
    "    \n",
    "\n",
    "        "
   ]
  },
  {
   "cell_type": "code",
   "execution_count": 4,
   "metadata": {},
   "outputs": [],
   "source": [
    "aqdp = dict(); # All data vars will be here\n",
    "# Coordinates\n",
    "aqdp['time'] = np.squeeze( matfile[0]['yday'][0] );\n",
    "aqdp['pressure'] = np.squeeze( matfile[0]['p'][0]);\n",
    "aqdp['dl'] = 0.0221; aqdp['dt'] = np.mean( np.diff(aqdp['time'], n=1)*24*3600 );\n",
    "\n",
    "# Measured variables get their own class instances\n",
    "aqdp['v1'] = VelMeas( pd.DataFrame( data = matfile[0]['v1'][0], index = aqdp['time']), aqdp['dl']);\n",
    "aqdp['v2'] = VelMeas( pd.DataFrame( data = matfile[0]['v2'][0], index = aqdp['time']), aqdp['dl']);\n",
    "aqdp['v3'] = VelMeas( pd.DataFrame( data = matfile[0]['v3'][0], index = aqdp['time']), aqdp['dl']);"
   ]
  },
  {
   "cell_type": "code",
   "execution_count": null,
   "metadata": {},
   "outputs": [],
   "source": []
  },
  {
   "cell_type": "markdown",
   "metadata": {},
   "source": [
    "At this point, we have loaded all data necessary, as well as the source variables needed for processing. Next we define the ensembles that we want to make calculations for. Ensembles are defined by ind1, ind2, which correspond to their startpoint and endpoint in aqdp['time']."
   ]
  },
  {
   "cell_type": "code",
   "execution_count": 89,
   "metadata": {},
   "outputs": [],
   "source": [
    "# Construct ensemble by time stepping every\n",
    "slow_dt = 30/60/60/24; # thirty seconds\n",
    "slow_time =  np.arange( start = np.floor(aqdp['time'][0]*12)/12, stop = np.ceil(aqdp['time'][-1]*12)/12, step = slow_dt); \n",
    "correspondence = np.digitize(aqdp['time'], slow_time);\n",
    "\n",
    "\n",
    "class Ensemble:\n",
    "\n",
    "    # Object that creates a route towards sets of raw profiles and methods applied to them \n",
    "    # Inputs: np.array that identifies the indices to a set of ensembles. \n",
    "    # all calculations aboard\n",
    "\n",
    "    def __init__(self, slow_time, slow_dt, beam = 'v1'):\n",
    "        \n",
    "        self.time = slow_time; \n",
    "        self.dt = slow_dt;\n",
    "        \n",
    "        self.ind1 = np.array([np.searchsorted(aqdp['time'], self.time[kk]- self.dt/2) for kk in range(len(self.time))]); \n",
    "        self.ind2 = np.array([np.searchsorted(aqdp['time'], self.time[kk]+ self.dt/2) for kk in range(len(self.time))]); \n",
    "        self.beam = beam;\n",
    "        self.p = np.empty( (len(self.time),1) );\n",
    "        \n",
    "        # ----   Mean in the middle of each ensemble\n",
    "        for kk in range(len(self.time)):\n",
    "            if self.ind1[kk] < self.ind2[kk]:\n",
    "                self.p[kk] = np.mean( aqdp['pressure'][self.ind1[kk]:self.ind2[kk]]);\n",
    "                \n",
    "    def kspectrum(self, detrend ):\n",
    "        # Run the spectrum method in the object from aqdp class\n",
    "        dummyspec = aqdp[self.beam].kspectrum(detrend); \n",
    "        # where to save results\n",
    "        ens_spectrum = np.empty( (len(self.time), len(aqdp[self.beam].wvnum)) ); \n",
    "        \n",
    "        for kk in range(len(self.time)):\n",
    "            if self.ind1[kk] < self.ind2[kk]: # check ensemble not empty\n",
    "                # save mean spectrum\n",
    "                ens_spectrum[kk,:] = np.mean( dummyspec[ self.ind1[kk]:self.ind2[kk] , : ] , axis = 0);\n",
    "    \n",
    "        return ens_spectrum \n",
    "    \n",
    "    def MLEfit(self, detrend):\n",
    "        \n",
    "        # Compute the noise spectrum\n",
    "        PhiNoise = aqdp[self.beam].std**2 / (max(aqdp[self.beam].wvnum));\n",
    "        DegFred = np.mean( self.ind2 - self.ind1);\n",
    "        allspecs = self.kspectrum(detrend); # observed spectra\n",
    "\n",
    "        # Define function for theoretical spectrum\n",
    "        def PhiTheory(epsilon): \n",
    "            return PhiNoise + (18/55)*(8*epsilon/9/0.4)**(2/3) * (aqdp[self.beam].wvnum**(-5/3));\n",
    "        \n",
    "        def CostFunc(epsilon, phihere):\n",
    "            cost = np.log( DegFred / PhiTheory(epsilon) * \\\n",
    "                  chi2.pdf( DegFred * phihere / PhiTheory(epsilon), df = DegFred) );\n",
    "            return cost\n",
    "        \n",
    "        epstrials = 10** np.linspace(-11, -5, 10); # vals of eps to try\n",
    "                \n",
    "        eps = dict(); \n",
    "        eps['values'] = np.empty( (len(self.time), 1) );\n",
    "        eps['cost'] = np.empty( (len( self.time), 10) );\n",
    "        eps['varcost'] = np.empty( (len(self.time), 1) ); # curvature of cost function\n",
    "        eps['varspec'] = np.empty( (len(self.time), 1) ); # empirical\n",
    "        eps['MAD'] = np.empty( (len(self.time), 1)); # for flags\n",
    "                   \n",
    "        # Cycle through ensembles    \n",
    "        for kk in range(3):#len(self.time) ): \n",
    "            spec_here = allspecs[kk,:];\n",
    "            costtrials = np.empty( ( len(epstrials), ));\n",
    "            \n",
    "            for jj in range( len(epstrials) ):\n",
    "                val2save = CostFunc(epstrials[jj], spec_here);\n",
    "                print(val2save.shape)\n",
    "                costtrials[jj] = sum( val2save );\n",
    "            \n",
    "            eps['cost'][kk,:] = costtrials;\n",
    "            \n",
    "            # Find max in costtrials\n",
    "            maxcf = max(costtrials); maxcf = list(costtrials).index(maxcf);\n",
    "            eps['values'][kk] = epstrials[maxcf];\n",
    "                       \n",
    "#            eps['cost'][kk,:] = [CostFunc(epsi) for epsi in np.linspace(1e-9, 1e-3, 20)]\n",
    "            # Variance using curvature\n",
    "            # GOAL OF THE NEXT CHUNK OF CODE AS OF 17:37 PM (Jul 24, 2021)\n",
    "            # implement a generator that cycles through a window of values around solver.epsilon\n",
    "        \n",
    "            # first attempt\n",
    " #           try_epsilon = [0.9, 0.95, 1, 1.05, 1.1]*eps['values'][kk];\n",
    " #           get_curvature = [ CostFunc(kk) for kk in try_epsilon ];\n",
    "            \n",
    " #           eps['varcost'][kk] = np.mean(np.diff( get_curvature , n = 2)); \n",
    "#                                        x = try_epsilon)[ valued exactly at 1 ]\n",
    "            \n",
    "            # --------- I think this is how the calculation works overall. Need to solve format issues later. \n",
    "            \n",
    "            # Offer to plt.imshow an class instance that represents the cost function plot\n",
    "            # for a wide range of trial \\epsilons.           \n",
    "            \n",
    "        return eps\n",
    "        \n",
    "#    def Wiles(self, limits):\n",
    "        \n",
    "        \n",
    "        \n",
    "        \n",
    "                "
   ]
  },
  {
   "cell_type": "code",
   "execution_count": 90,
   "metadata": {},
   "outputs": [],
   "source": [
    "mycake = Ensemble(slow_time, slow_dt)"
   ]
  },
  {
   "cell_type": "code",
   "execution_count": 91,
   "metadata": {},
   "outputs": [
    {
     "name": "stdout",
     "output_type": "stream",
     "text": [
      "(17,)\n",
      "(17,)\n",
      "(17,)\n",
      "(17,)\n",
      "(17,)\n",
      "(17,)\n",
      "(17,)\n",
      "(17,)\n",
      "(17,)\n",
      "(17,)\n",
      "(17,)\n",
      "(17,)\n",
      "(17,)\n",
      "(17,)\n",
      "(17,)\n",
      "(17,)\n",
      "(17,)\n",
      "(17,)\n",
      "(17,)\n",
      "(17,)\n",
      "(17,)\n",
      "(17,)\n",
      "(17,)\n",
      "(17,)\n",
      "(17,)\n",
      "(17,)\n",
      "(17,)\n",
      "(17,)\n",
      "(17,)\n",
      "(17,)\n"
     ]
    },
    {
     "name": "stderr",
     "output_type": "stream",
     "text": [
      "<ipython-input-89-4f281f084004>:53: RuntimeWarning: divide by zero encountered in log\n",
      "  cost = np.log( DegFred / PhiTheory(epsilon) * \\\n"
     ]
    }
   ],
   "source": [
    "test1 = mycake.MLEfit(detrend = False )"
   ]
  },
  {
   "cell_type": "code",
   "execution_count": 97,
   "metadata": {},
   "outputs": [
    {
     "ename": "ValueError",
     "evalue": "x and y must have same first dimension, but have shapes (6240,) and (5, 1)",
     "output_type": "error",
     "traceback": [
      "\u001b[0;31m---------------------------------------------------------------------------\u001b[0m",
      "\u001b[0;31mValueError\u001b[0m                                Traceback (most recent call last)",
      "\u001b[0;32m<ipython-input-97-d5f750983805>\u001b[0m in \u001b[0;36m<module>\u001b[0;34m\u001b[0m\n\u001b[0;32m----> 1\u001b[0;31m \u001b[0mplt\u001b[0m\u001b[0;34m.\u001b[0m\u001b[0mplot\u001b[0m\u001b[0;34m(\u001b[0m \u001b[0mmycake\u001b[0m\u001b[0;34m.\u001b[0m\u001b[0mtime\u001b[0m\u001b[0;34m,\u001b[0m \u001b[0mnp\u001b[0m\u001b[0;34m.\u001b[0m\u001b[0mlog10\u001b[0m\u001b[0;34m(\u001b[0m \u001b[0mtest1\u001b[0m\u001b[0;34m[\u001b[0m\u001b[0;34m'values'\u001b[0m\u001b[0;34m]\u001b[0m\u001b[0;34m[\u001b[0m\u001b[0;36m0\u001b[0m\u001b[0;34m:\u001b[0m\u001b[0;36m5\u001b[0m\u001b[0;34m]\u001b[0m \u001b[0;34m)\u001b[0m \u001b[0;34m)\u001b[0m\u001b[0;34m\u001b[0m\u001b[0;34m\u001b[0m\u001b[0m\n\u001b[0m\u001b[1;32m      2\u001b[0m \u001b[0;31m#plt.gca().set_xlim((12.5, 12.7))\u001b[0m\u001b[0;34m\u001b[0m\u001b[0;34m\u001b[0m\u001b[0;34m\u001b[0m\u001b[0m\n\u001b[1;32m      3\u001b[0m \u001b[0;31m#plt.plot( test1['cost'][0:2,:] )\u001b[0m\u001b[0;34m\u001b[0m\u001b[0;34m\u001b[0m\u001b[0;34m\u001b[0m\u001b[0m\n\u001b[1;32m      4\u001b[0m \u001b[0;34m\u001b[0m\u001b[0m\n\u001b[1;32m      5\u001b[0m \u001b[0;31m#test1['cost'][0:2,:]\u001b[0m\u001b[0;34m\u001b[0m\u001b[0;34m\u001b[0m\u001b[0;34m\u001b[0m\u001b[0m\n",
      "\u001b[0;32m~/Documents/software/anaconda3/lib/python3.8/site-packages/matplotlib/pyplot.py\u001b[0m in \u001b[0;36mplot\u001b[0;34m(scalex, scaley, data, *args, **kwargs)\u001b[0m\n\u001b[1;32m   2838\u001b[0m \u001b[0;34m@\u001b[0m\u001b[0m_copy_docstring_and_deprecators\u001b[0m\u001b[0;34m(\u001b[0m\u001b[0mAxes\u001b[0m\u001b[0;34m.\u001b[0m\u001b[0mplot\u001b[0m\u001b[0;34m)\u001b[0m\u001b[0;34m\u001b[0m\u001b[0;34m\u001b[0m\u001b[0m\n\u001b[1;32m   2839\u001b[0m \u001b[0;32mdef\u001b[0m \u001b[0mplot\u001b[0m\u001b[0;34m(\u001b[0m\u001b[0;34m*\u001b[0m\u001b[0margs\u001b[0m\u001b[0;34m,\u001b[0m \u001b[0mscalex\u001b[0m\u001b[0;34m=\u001b[0m\u001b[0;32mTrue\u001b[0m\u001b[0;34m,\u001b[0m \u001b[0mscaley\u001b[0m\u001b[0;34m=\u001b[0m\u001b[0;32mTrue\u001b[0m\u001b[0;34m,\u001b[0m \u001b[0mdata\u001b[0m\u001b[0;34m=\u001b[0m\u001b[0;32mNone\u001b[0m\u001b[0;34m,\u001b[0m \u001b[0;34m**\u001b[0m\u001b[0mkwargs\u001b[0m\u001b[0;34m)\u001b[0m\u001b[0;34m:\u001b[0m\u001b[0;34m\u001b[0m\u001b[0;34m\u001b[0m\u001b[0m\n\u001b[0;32m-> 2840\u001b[0;31m     return gca().plot(\n\u001b[0m\u001b[1;32m   2841\u001b[0m         \u001b[0;34m*\u001b[0m\u001b[0margs\u001b[0m\u001b[0;34m,\u001b[0m \u001b[0mscalex\u001b[0m\u001b[0;34m=\u001b[0m\u001b[0mscalex\u001b[0m\u001b[0;34m,\u001b[0m \u001b[0mscaley\u001b[0m\u001b[0;34m=\u001b[0m\u001b[0mscaley\u001b[0m\u001b[0;34m,\u001b[0m\u001b[0;34m\u001b[0m\u001b[0;34m\u001b[0m\u001b[0m\n\u001b[1;32m   2842\u001b[0m         **({\"data\": data} if data is not None else {}), **kwargs)\n",
      "\u001b[0;32m~/Documents/software/anaconda3/lib/python3.8/site-packages/matplotlib/axes/_axes.py\u001b[0m in \u001b[0;36mplot\u001b[0;34m(self, scalex, scaley, data, *args, **kwargs)\u001b[0m\n\u001b[1;32m   1741\u001b[0m         \"\"\"\n\u001b[1;32m   1742\u001b[0m         \u001b[0mkwargs\u001b[0m \u001b[0;34m=\u001b[0m \u001b[0mcbook\u001b[0m\u001b[0;34m.\u001b[0m\u001b[0mnormalize_kwargs\u001b[0m\u001b[0;34m(\u001b[0m\u001b[0mkwargs\u001b[0m\u001b[0;34m,\u001b[0m \u001b[0mmlines\u001b[0m\u001b[0;34m.\u001b[0m\u001b[0mLine2D\u001b[0m\u001b[0;34m)\u001b[0m\u001b[0;34m\u001b[0m\u001b[0;34m\u001b[0m\u001b[0m\n\u001b[0;32m-> 1743\u001b[0;31m         \u001b[0mlines\u001b[0m \u001b[0;34m=\u001b[0m \u001b[0;34m[\u001b[0m\u001b[0;34m*\u001b[0m\u001b[0mself\u001b[0m\u001b[0;34m.\u001b[0m\u001b[0m_get_lines\u001b[0m\u001b[0;34m(\u001b[0m\u001b[0;34m*\u001b[0m\u001b[0margs\u001b[0m\u001b[0;34m,\u001b[0m \u001b[0mdata\u001b[0m\u001b[0;34m=\u001b[0m\u001b[0mdata\u001b[0m\u001b[0;34m,\u001b[0m \u001b[0;34m**\u001b[0m\u001b[0mkwargs\u001b[0m\u001b[0;34m)\u001b[0m\u001b[0;34m]\u001b[0m\u001b[0;34m\u001b[0m\u001b[0;34m\u001b[0m\u001b[0m\n\u001b[0m\u001b[1;32m   1744\u001b[0m         \u001b[0;32mfor\u001b[0m \u001b[0mline\u001b[0m \u001b[0;32min\u001b[0m \u001b[0mlines\u001b[0m\u001b[0;34m:\u001b[0m\u001b[0;34m\u001b[0m\u001b[0;34m\u001b[0m\u001b[0m\n\u001b[1;32m   1745\u001b[0m             \u001b[0mself\u001b[0m\u001b[0;34m.\u001b[0m\u001b[0madd_line\u001b[0m\u001b[0;34m(\u001b[0m\u001b[0mline\u001b[0m\u001b[0;34m)\u001b[0m\u001b[0;34m\u001b[0m\u001b[0;34m\u001b[0m\u001b[0m\n",
      "\u001b[0;32m~/Documents/software/anaconda3/lib/python3.8/site-packages/matplotlib/axes/_base.py\u001b[0m in \u001b[0;36m__call__\u001b[0;34m(self, data, *args, **kwargs)\u001b[0m\n\u001b[1;32m    271\u001b[0m                 \u001b[0mthis\u001b[0m \u001b[0;34m+=\u001b[0m \u001b[0margs\u001b[0m\u001b[0;34m[\u001b[0m\u001b[0;36m0\u001b[0m\u001b[0;34m]\u001b[0m\u001b[0;34m,\u001b[0m\u001b[0;34m\u001b[0m\u001b[0;34m\u001b[0m\u001b[0m\n\u001b[1;32m    272\u001b[0m                 \u001b[0margs\u001b[0m \u001b[0;34m=\u001b[0m \u001b[0margs\u001b[0m\u001b[0;34m[\u001b[0m\u001b[0;36m1\u001b[0m\u001b[0;34m:\u001b[0m\u001b[0;34m]\u001b[0m\u001b[0;34m\u001b[0m\u001b[0;34m\u001b[0m\u001b[0m\n\u001b[0;32m--> 273\u001b[0;31m             \u001b[0;32myield\u001b[0m \u001b[0;32mfrom\u001b[0m \u001b[0mself\u001b[0m\u001b[0;34m.\u001b[0m\u001b[0m_plot_args\u001b[0m\u001b[0;34m(\u001b[0m\u001b[0mthis\u001b[0m\u001b[0;34m,\u001b[0m \u001b[0mkwargs\u001b[0m\u001b[0;34m)\u001b[0m\u001b[0;34m\u001b[0m\u001b[0;34m\u001b[0m\u001b[0m\n\u001b[0m\u001b[1;32m    274\u001b[0m \u001b[0;34m\u001b[0m\u001b[0m\n\u001b[1;32m    275\u001b[0m     \u001b[0;32mdef\u001b[0m \u001b[0mget_next_color\u001b[0m\u001b[0;34m(\u001b[0m\u001b[0mself\u001b[0m\u001b[0;34m)\u001b[0m\u001b[0;34m:\u001b[0m\u001b[0;34m\u001b[0m\u001b[0;34m\u001b[0m\u001b[0m\n",
      "\u001b[0;32m~/Documents/software/anaconda3/lib/python3.8/site-packages/matplotlib/axes/_base.py\u001b[0m in \u001b[0;36m_plot_args\u001b[0;34m(self, tup, kwargs)\u001b[0m\n\u001b[1;32m    397\u001b[0m \u001b[0;34m\u001b[0m\u001b[0m\n\u001b[1;32m    398\u001b[0m         \u001b[0;32mif\u001b[0m \u001b[0mx\u001b[0m\u001b[0;34m.\u001b[0m\u001b[0mshape\u001b[0m\u001b[0;34m[\u001b[0m\u001b[0;36m0\u001b[0m\u001b[0;34m]\u001b[0m \u001b[0;34m!=\u001b[0m \u001b[0my\u001b[0m\u001b[0;34m.\u001b[0m\u001b[0mshape\u001b[0m\u001b[0;34m[\u001b[0m\u001b[0;36m0\u001b[0m\u001b[0;34m]\u001b[0m\u001b[0;34m:\u001b[0m\u001b[0;34m\u001b[0m\u001b[0;34m\u001b[0m\u001b[0m\n\u001b[0;32m--> 399\u001b[0;31m             raise ValueError(f\"x and y must have same first dimension, but \"\n\u001b[0m\u001b[1;32m    400\u001b[0m                              f\"have shapes {x.shape} and {y.shape}\")\n\u001b[1;32m    401\u001b[0m         \u001b[0;32mif\u001b[0m \u001b[0mx\u001b[0m\u001b[0;34m.\u001b[0m\u001b[0mndim\u001b[0m \u001b[0;34m>\u001b[0m \u001b[0;36m2\u001b[0m \u001b[0;32mor\u001b[0m \u001b[0my\u001b[0m\u001b[0;34m.\u001b[0m\u001b[0mndim\u001b[0m \u001b[0;34m>\u001b[0m \u001b[0;36m2\u001b[0m\u001b[0;34m:\u001b[0m\u001b[0;34m\u001b[0m\u001b[0;34m\u001b[0m\u001b[0m\n",
      "\u001b[0;31mValueError\u001b[0m: x and y must have same first dimension, but have shapes (6240,) and (5, 1)"
     ]
    },
    {
     "data": {
      "image/png": "[encoded data removed]",
      "text/plain": [
       "<Figure size 432x288 with 1 Axes>"
      ]
     },
     "metadata": {
      "needs_background": "light"
     },
     "output_type": "display_data"
    }
   ],
   "source": [
    "plt.plot( mycake.time, np.log10( test1['values'] ) )\n",
    "#plt.gca().set_xlim((12.5, 12.7))\n",
    "#plt.plot( test1['cost'][0:2,:] )\n",
    "\n",
    "#test1['cost'][0:2,:]"
   ]
  },
  {
   "cell_type": "code",
   "execution_count": 38,
   "metadata": {},
   "outputs": [],
   "source": [
    "cakespec = mycake.kspectrum( detrend = True)\n",
    "cakespec2 = mycake.kspectrum(detrend = False);"
   ]
  },
  {
   "cell_type": "markdown",
   "metadata": {},
   "source": [
    "At this point, I still have some doubts about how to calculate my spectra. It seems like calculating without detrending can help yield a more -5/3-like curve. Check veron and see if they detrend. Maybe there's no need to detrend since we're not doing segments? Also make sure that normalization is acting well. "
   ]
  },
  {
   "cell_type": "code",
   "execution_count": 40,
   "metadata": {},
   "outputs": [
    {
     "data": {
      "text/plain": [
       "<matplotlib.legend.Legend at 0x7ff02720c250>"
      ]
     },
     "execution_count": 40,
     "metadata": {},
     "output_type": "execute_result"
    },
    {
     "data": {
      "image/png": "[encoded data removed]",
      "text/plain": [
       "<Figure size 432x288 with 1 Axes>"
      ]
     },
     "metadata": {
      "needs_background": "light"
     },
     "output_type": "display_data"
    }
   ],
   "source": [
    "plt.loglog( aqdp['v1'].wvnum, cakespec[1081,:])\n",
    "plt.loglog( aqdp['v1'].wvnum, cakespec2[1081,:])\n",
    "plt.loglog( aqdp['v1'].wvnum, cakespec2[1085,:])\n",
    "plt.legend(['Detrended','No detrending'])\n"
   ]
  },
  {
   "cell_type": "code",
   "execution_count": 7,
   "metadata": {},
   "outputs": [
    {
     "data": {
      "text/plain": [
       "array([18., 32., 50.])"
      ]
     },
     "execution_count": 7,
     "metadata": {},
     "output_type": "execute_result"
    }
   ],
   "source": [
    "fun = lambda x: 2*x**2; \n",
    "fun(np.linspace(3,5,3))"
   ]
  },
  {
   "cell_type": "code",
   "execution_count": null,
   "metadata": {},
   "outputs": [],
   "source": []
  }
 ],
 "metadata": {
  "kernelspec": {
   "display_name": "Python 3",
   "language": "python",
   "name": "python3"
  },
  "language_info": {
   "codemirror_mode": {
    "name": "ipython",
    "version": 3
   },
   "file_extension": ".py",
   "mimetype": "text/x-python",
   "name": "python",
   "nbconvert_exporter": "python",
   "pygments_lexer": "ipython3",
   "version": "3.8.5"
  }
 },
 "nbformat": 4,
 "nbformat_minor": 4
}
